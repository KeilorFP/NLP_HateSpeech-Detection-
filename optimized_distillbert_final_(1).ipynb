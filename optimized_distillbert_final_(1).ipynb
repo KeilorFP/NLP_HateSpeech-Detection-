{
  "metadata": {
    "kernelspec": {
      "name": "python3",
      "display_name": "Python 3",
      "language": "python"
    },
    "language_info": {
      "name": "python",
      "version": "3.10.12",
      "mimetype": "text/x-python",
      "codemirror_mode": {
        "name": "ipython",
        "version": 3
      },
      "pygments_lexer": "ipython3",
      "nbconvert_exporter": "python",
      "file_extension": ".py"
    },
    "accelerator": "GPU",
    "colab": {
      "gpuType": "T4",
      "provenance": []
    },
    "kaggle": {
      "accelerator": "nvidiaTeslaT4",
      "dataSources": [
        {
          "sourceId": 59255,
          "sourceType": "datasetVersion",
          "datasetId": 38891
        }
      ],
      "dockerImageVersionId": 30823,
      "isInternetEnabled": true,
      "language": "python",
      "sourceType": "notebook",
      "isGpuEnabled": true
    }
  },
  "nbformat_minor": 0,
  "nbformat": 4,
  "cells": [
    {
      "cell_type": "code",
      "source": [
        "# This Python 3 environment comes with many helpful analytics libraries installed\n",
        "# It is defined by the kaggle/python Docker image: https://github.com/kaggle/docker-python\n",
        "# For example, here's several helpful packages to load\n",
        "\n",
        "import numpy as np # linear algebra\n",
        "import pandas as pd # data processing, CSV file I/O (e.g. pd.read_csv)\n",
        "\n",
        "# Input data files are available in the read-only \"../input/\" directory\n",
        "# For example, running this (by clicking run or pressing Shift+Enter) will list all files under the input directory\n",
        "\n",
        "import os\n",
        "for dirname, _, filenames in os.walk('/kaggle/input'):\n",
        "    for filename in filenames:\n",
        "        print(os.path.join(dirname, filename))\n",
        "\n",
        "# You can write up to 20GB to the current directory (/kaggle/working/) that gets preserved as output when you create a version using \"Save & Run All\"\n",
        "# You can also write temporary files to /kaggle/temp/, but they won't be saved outside of the current session"
      ],
      "metadata": {
        "_cell_guid": "b1076dfc-b9ad-4769-8c92-a6c4dae69d19",
        "_uuid": "8f2839f25d086af736a60e9eeb907d3b93b6e0e5",
        "id": "QT88eOJfuIPw",
        "trusted": true,
        "execution": {
          "iopub.status.busy": "2025-01-06T04:31:58.726642Z",
          "iopub.execute_input": "2025-01-06T04:31:58.726924Z",
          "iopub.status.idle": "2025-01-06T04:31:59.051852Z",
          "shell.execute_reply.started": "2025-01-06T04:31:58.726893Z",
          "shell.execute_reply": "2025-01-06T04:31:59.050999Z"
        }
      },
      "outputs": [],
      "execution_count": null
    },
    {
      "cell_type": "code",
      "source": [
        "import pandas as pd\n",
        "pd.set_option('display.width', None)  # Auto-adjust width\n",
        "pd.set_option('display.max_colwidth', None)  # No limit on column width"
      ],
      "metadata": {
        "id": "JhHKBDM7uIPz",
        "trusted": true,
        "execution": {
          "iopub.status.busy": "2025-01-06T04:31:59.052661Z",
          "iopub.execute_input": "2025-01-06T04:31:59.053057Z",
          "iopub.status.idle": "2025-01-06T04:31:59.057290Z",
          "shell.execute_reply.started": "2025-01-06T04:31:59.053033Z",
          "shell.execute_reply": "2025-01-06T04:31:59.056335Z"
        }
      },
      "outputs": [],
      "execution_count": null
    },
    {
      "cell_type": "code",
      "source": [
        "from google.colab import drive\n",
        "drive.mount('/content/drive')\n"
      ],
      "metadata": {
        "id": "uxGSoFxJvXmS",
        "trusted": true,
        "execution": {
          "iopub.status.busy": "2025-01-06T04:31:59.184432Z",
          "iopub.execute_input": "2025-01-06T04:31:59.184640Z",
          "iopub.status.idle": "2025-01-06T04:31:59.188642Z",
          "shell.execute_reply.started": "2025-01-06T04:31:59.184621Z",
          "shell.execute_reply": "2025-01-06T04:31:59.187627Z"
        }
      },
      "outputs": [],
      "execution_count": null
    },
    {
      "cell_type": "code",
      "source": [
        "#df_train = pd.read_csv(\"/kaggle/input/twitter-hate-speech/train_E6oV3lV.csv\")"
      ],
      "metadata": {
        "trusted": true,
        "execution": {
          "iopub.status.busy": "2025-01-06T04:31:59.058252Z",
          "iopub.execute_input": "2025-01-06T04:31:59.058910Z",
          "iopub.status.idle": "2025-01-06T04:31:59.183675Z",
          "shell.execute_reply.started": "2025-01-06T04:31:59.058874Z",
          "shell.execute_reply": "2025-01-06T04:31:59.182787Z"
        },
        "id": "6WJEsq-_cQ7i"
      },
      "outputs": [],
      "execution_count": null
    },
    {
      "cell_type": "code",
      "source": [
        "df_train = pd.read_csv(\"/content/drive/MyDrive/datasets_project/train_E6oV3lV.csv\"\n",
        ", header=0)\n",
        "df_train.head(20)"
      ],
      "metadata": {
        "id": "DD-0v05puIPz",
        "trusted": true,
        "execution": {
          "iopub.status.busy": "2025-01-06T04:31:59.189610Z",
          "iopub.execute_input": "2025-01-06T04:31:59.189980Z",
          "iopub.status.idle": "2025-01-06T04:31:59.201247Z",
          "shell.execute_reply.started": "2025-01-06T04:31:59.189949Z",
          "shell.execute_reply": "2025-01-06T04:31:59.200392Z"
        }
      },
      "outputs": [],
      "execution_count": null
    },
    {
      "cell_type": "code",
      "source": [
        "df_train[df_train[\"label\"] == 0][\"tweet\"].iloc[2]"
      ],
      "metadata": {
        "id": "6MGlT6w1uIP0",
        "trusted": true,
        "execution": {
          "iopub.status.busy": "2025-01-06T04:31:59.203865Z",
          "iopub.execute_input": "2025-01-06T04:31:59.204101Z",
          "iopub.status.idle": "2025-01-06T04:31:59.224746Z",
          "shell.execute_reply.started": "2025-01-06T04:31:59.204081Z",
          "shell.execute_reply": "2025-01-06T04:31:59.223983Z"
        }
      },
      "outputs": [],
      "execution_count": null
    },
    {
      "cell_type": "code",
      "source": [
        "df_train.shape"
      ],
      "metadata": {
        "id": "BQZKY_J3uIP1",
        "trusted": true,
        "execution": {
          "iopub.status.busy": "2025-01-06T04:31:59.226464Z",
          "iopub.execute_input": "2025-01-06T04:31:59.226653Z",
          "iopub.status.idle": "2025-01-06T04:31:59.231590Z",
          "shell.execute_reply.started": "2025-01-06T04:31:59.226637Z",
          "shell.execute_reply": "2025-01-06T04:31:59.230656Z"
        }
      },
      "outputs": [],
      "execution_count": null
    },
    {
      "cell_type": "code",
      "source": [
        "df_train[df_train[\"label\"] == 0].count()\n"
      ],
      "metadata": {
        "id": "EfQUn5wiuIP1",
        "trusted": true,
        "execution": {
          "iopub.status.busy": "2025-01-06T04:31:59.232490Z",
          "iopub.execute_input": "2025-01-06T04:31:59.232853Z",
          "iopub.status.idle": "2025-01-06T04:31:59.249909Z",
          "shell.execute_reply.started": "2025-01-06T04:31:59.232815Z",
          "shell.execute_reply": "2025-01-06T04:31:59.249069Z"
        }
      },
      "outputs": [],
      "execution_count": null
    },
    {
      "cell_type": "code",
      "source": [
        "#df.query('label == 0').count()\n",
        "len(df_train[df_train[\"label\"] == 0])"
      ],
      "metadata": {
        "id": "hAV2-_BtuIP1",
        "trusted": true,
        "execution": {
          "iopub.status.busy": "2025-01-06T04:31:59.250727Z",
          "iopub.execute_input": "2025-01-06T04:31:59.250959Z",
          "iopub.status.idle": "2025-01-06T04:31:59.257886Z",
          "shell.execute_reply.started": "2025-01-06T04:31:59.250939Z",
          "shell.execute_reply": "2025-01-06T04:31:59.256953Z"
        }
      },
      "outputs": [],
      "execution_count": null
    },
    {
      "cell_type": "code",
      "source": [
        "len(df_train[df_train[\"label\"] == 1])"
      ],
      "metadata": {
        "id": "ZWxcvZAPuIP1",
        "trusted": true,
        "execution": {
          "iopub.status.busy": "2025-01-06T04:31:59.258778Z",
          "iopub.execute_input": "2025-01-06T04:31:59.259147Z",
          "iopub.status.idle": "2025-01-06T04:31:59.270960Z",
          "shell.execute_reply.started": "2025-01-06T04:31:59.259114Z",
          "shell.execute_reply": "2025-01-06T04:31:59.269920Z"
        }
      },
      "outputs": [],
      "execution_count": null
    },
    {
      "cell_type": "code",
      "source": [
        "df_test = pd.read_csv(\"/content/drive/MyDrive/datasets_project/test_tweets_anuFYb8.csv\")"
      ],
      "metadata": {
        "id": "0KxvYxa2uIP2",
        "trusted": true,
        "execution": {
          "iopub.status.busy": "2025-01-06T04:31:59.272048Z",
          "iopub.execute_input": "2025-01-06T04:31:59.272341Z",
          "iopub.status.idle": "2025-01-06T04:31:59.280695Z",
          "shell.execute_reply.started": "2025-01-06T04:31:59.272313Z",
          "shell.execute_reply": "2025-01-06T04:31:59.279800Z"
        }
      },
      "outputs": [],
      "execution_count": null
    },
    {
      "cell_type": "code",
      "source": [
        "df_test.shape"
      ],
      "metadata": {
        "id": "CvlZEDAquIP2",
        "trusted": true,
        "execution": {
          "iopub.status.busy": "2025-01-06T04:31:59.281677Z",
          "iopub.execute_input": "2025-01-06T04:31:59.282023Z",
          "iopub.status.idle": "2025-01-06T04:31:59.293470Z",
          "shell.execute_reply.started": "2025-01-06T04:31:59.281982Z",
          "shell.execute_reply": "2025-01-06T04:31:59.292625Z"
        }
      },
      "outputs": [],
      "execution_count": null
    },
    {
      "cell_type": "code",
      "source": [
        "df_test.head()"
      ],
      "metadata": {
        "id": "aPmkL4RPuIP2",
        "trusted": true,
        "execution": {
          "iopub.status.busy": "2025-01-06T04:31:59.294349Z",
          "iopub.execute_input": "2025-01-06T04:31:59.294620Z",
          "iopub.status.idle": "2025-01-06T04:31:59.305302Z",
          "shell.execute_reply.started": "2025-01-06T04:31:59.294592Z",
          "shell.execute_reply": "2025-01-06T04:31:59.304349Z"
        }
      },
      "outputs": [],
      "execution_count": null
    },
    {
      "cell_type": "code",
      "source": [
        "from matplotlib import pyplot as plt\n",
        "import seaborn as sns"
      ],
      "metadata": {
        "id": "vquiUXVKuIP2",
        "trusted": true,
        "execution": {
          "iopub.status.busy": "2025-01-06T04:31:59.306359Z",
          "iopub.execute_input": "2025-01-06T04:31:59.306623Z",
          "iopub.status.idle": "2025-01-06T04:32:00.032390Z",
          "shell.execute_reply.started": "2025-01-06T04:31:59.306593Z",
          "shell.execute_reply": "2025-01-06T04:32:00.031484Z"
        }
      },
      "outputs": [],
      "execution_count": null
    },
    {
      "cell_type": "code",
      "source": [
        "plt.figure(figsize=(6,6))\n",
        "ax = sns.countplot(data=df_train, x=\"label\", palette='viridis')\n",
        "for p in ax.patches:\n",
        "    ax.annotate(f'{p.get_height()}',\n",
        "                (p.get_x() + p.get_width() / 2., p.get_height()),\n",
        "                ha='center', va='center',\n",
        "                fontsize=12, color='black',\n",
        "                xytext=(0, 5),  # Adjust text position (optional)\n",
        "                textcoords='offset points')\n",
        "\n",
        "# Show the plot\n",
        "plt.show()"
      ],
      "metadata": {
        "id": "uel9hUP9uIP2",
        "trusted": true,
        "execution": {
          "iopub.status.busy": "2025-01-06T04:32:00.033257Z",
          "iopub.execute_input": "2025-01-06T04:32:00.033581Z",
          "iopub.status.idle": "2025-01-06T04:32:00.217037Z",
          "shell.execute_reply.started": "2025-01-06T04:32:00.033559Z",
          "shell.execute_reply": "2025-01-06T04:32:00.215719Z"
        }
      },
      "outputs": [],
      "execution_count": null
    },
    {
      "cell_type": "code",
      "source": [
        "df_train.describe()"
      ],
      "metadata": {
        "id": "l6HVHZicuIP3",
        "trusted": true,
        "execution": {
          "iopub.status.busy": "2025-01-06T04:32:00.217931Z",
          "iopub.execute_input": "2025-01-06T04:32:00.218737Z",
          "iopub.status.idle": "2025-01-06T04:32:00.245313Z",
          "shell.execute_reply.started": "2025-01-06T04:32:00.218673Z",
          "shell.execute_reply": "2025-01-06T04:32:00.243596Z"
        }
      },
      "outputs": [],
      "execution_count": null
    },
    {
      "cell_type": "code",
      "source": [
        "df_train.groupby('label').describe()"
      ],
      "metadata": {
        "id": "1v8RLM4NuIP3",
        "trusted": true,
        "execution": {
          "iopub.status.busy": "2025-01-06T04:32:00.246184Z",
          "iopub.execute_input": "2025-01-06T04:32:00.246567Z",
          "iopub.status.idle": "2025-01-06T04:32:00.285160Z",
          "shell.execute_reply.started": "2025-01-06T04:32:00.246528Z",
          "shell.execute_reply": "2025-01-06T04:32:00.283438Z"
        }
      },
      "outputs": [],
      "execution_count": null
    },
    {
      "cell_type": "code",
      "source": [
        "df_train.head(20)"
      ],
      "metadata": {
        "id": "P-prdovzuIP3",
        "trusted": true,
        "execution": {
          "iopub.status.busy": "2025-01-06T04:32:00.286410Z",
          "iopub.execute_input": "2025-01-06T04:32:00.287243Z",
          "iopub.status.idle": "2025-01-06T04:32:00.299272Z",
          "shell.execute_reply.started": "2025-01-06T04:32:00.287218Z",
          "shell.execute_reply": "2025-01-06T04:32:00.297612Z"
        }
      },
      "outputs": [],
      "execution_count": null
    },
    {
      "cell_type": "markdown",
      "source": [
        "## Cleanse Data"
      ],
      "metadata": {
        "id": "5F_oaKrGuIP3"
      }
    },
    {
      "cell_type": "code",
      "source": [
        "import re"
      ],
      "metadata": {
        "id": "L0fJ8qU9uIP5",
        "trusted": true,
        "execution": {
          "iopub.status.busy": "2025-01-06T04:32:00.300631Z",
          "iopub.execute_input": "2025-01-06T04:32:00.301039Z",
          "iopub.status.idle": "2025-01-06T04:32:00.311752Z",
          "shell.execute_reply.started": "2025-01-06T04:32:00.301006Z",
          "shell.execute_reply": "2025-01-06T04:32:00.310777Z"
        }
      },
      "outputs": [],
      "execution_count": null
    },
    {
      "cell_type": "code",
      "source": [
        "def clean_text(text):\n",
        "    text = re.sub(r\"http\\S+\", \"\", text) # remove URLs\n",
        "    text = re.sub(r\"@\\w+\", \"\", text) #remove mentions\n",
        "    text = re.sub(r\"#\\w+\", \"\", text) #remove hashtags\n",
        "    #text = re.sub(r\"[^\\w\\s]\", \"\", text) #remove special characters\n",
        "    return text.lower().strip()"
      ],
      "metadata": {
        "id": "26Ij3m5auIP5",
        "trusted": true,
        "execution": {
          "iopub.status.busy": "2025-01-06T04:32:00.318493Z",
          "iopub.execute_input": "2025-01-06T04:32:00.318759Z",
          "iopub.status.idle": "2025-01-06T04:32:00.329682Z",
          "shell.execute_reply.started": "2025-01-06T04:32:00.318700Z",
          "shell.execute_reply": "2025-01-06T04:32:00.328600Z"
        }
      },
      "outputs": [],
      "execution_count": null
    },
    {
      "cell_type": "code",
      "source": [
        "df_train['tweet'][3]"
      ],
      "metadata": {
        "id": "h2Xj607WuIP5",
        "trusted": true,
        "execution": {
          "iopub.status.busy": "2025-01-06T04:32:00.331433Z",
          "iopub.execute_input": "2025-01-06T04:32:00.331655Z",
          "iopub.status.idle": "2025-01-06T04:32:00.343249Z",
          "shell.execute_reply.started": "2025-01-06T04:32:00.331634Z",
          "shell.execute_reply": "2025-01-06T04:32:00.342311Z"
        }
      },
      "outputs": [],
      "execution_count": null
    },
    {
      "cell_type": "code",
      "source": [
        "df_train['cleaned_tweet']= df_train['tweet'].apply(clean_text)"
      ],
      "metadata": {
        "id": "b_2PAfpPuIP5",
        "trusted": true,
        "execution": {
          "iopub.status.busy": "2025-01-06T04:32:00.344151Z",
          "iopub.execute_input": "2025-01-06T04:32:00.344431Z",
          "iopub.status.idle": "2025-01-06T04:32:00.486637Z",
          "shell.execute_reply.started": "2025-01-06T04:32:00.344404Z",
          "shell.execute_reply": "2025-01-06T04:32:00.486026Z"
        }
      },
      "outputs": [],
      "execution_count": null
    },
    {
      "cell_type": "code",
      "source": [
        "df_train.head(20)"
      ],
      "metadata": {
        "id": "E3ZeX3nBuIP5",
        "trusted": true,
        "execution": {
          "iopub.status.busy": "2025-01-06T04:32:00.487443Z",
          "iopub.execute_input": "2025-01-06T04:32:00.487764Z",
          "iopub.status.idle": "2025-01-06T04:32:00.497225Z",
          "shell.execute_reply.started": "2025-01-06T04:32:00.487725Z",
          "shell.execute_reply": "2025-01-06T04:32:00.496429Z"
        }
      },
      "outputs": [],
      "execution_count": null
    },
    {
      "cell_type": "code",
      "source": [
        "def decode_text(text):\n",
        "    try:\n",
        "        #Handling the characters's error\n",
        "        return text.encode('latin1').decode('utf-8', errors='ignore')\n",
        "    except UnicodeDecodeError:\n",
        "        return text"
      ],
      "metadata": {
        "id": "58g37HgiuIP5",
        "trusted": true,
        "execution": {
          "iopub.status.busy": "2025-01-06T04:32:00.497977Z",
          "iopub.execute_input": "2025-01-06T04:32:00.498193Z",
          "iopub.status.idle": "2025-01-06T04:32:00.507467Z",
          "shell.execute_reply.started": "2025-01-06T04:32:00.498175Z",
          "shell.execute_reply": "2025-01-06T04:32:00.506729Z"
        }
      },
      "outputs": [],
      "execution_count": null
    },
    {
      "cell_type": "code",
      "source": [
        "def contains_invalid_encoding(text):\n",
        "    # Check if text is a string and find invalid characters\n",
        "    if isinstance(text, str):\n",
        "        # Regex to find characters that are not valid Unicode\n",
        "        return bool(re.search(r'[^\\x00-\\x7F]+', text))  # Find characters outside the standard ASCII range\n",
        "    return False"
      ],
      "metadata": {
        "id": "7w1SxVHTuIP5",
        "trusted": true,
        "execution": {
          "iopub.status.busy": "2025-01-06T04:32:00.508323Z",
          "iopub.execute_input": "2025-01-06T04:32:00.508603Z",
          "iopub.status.idle": "2025-01-06T04:32:00.519037Z",
          "shell.execute_reply.started": "2025-01-06T04:32:00.508575Z",
          "shell.execute_reply": "2025-01-06T04:32:00.518464Z"
        }
      },
      "outputs": [],
      "execution_count": null
    },
    {
      "cell_type": "code",
      "source": [
        "# Ensure the 'tweet' column is of string type before applying the check function\n",
        "df_train['cleaned_tweet'] = df_train['cleaned_tweet'].astype(str)\n",
        "\n",
        "df_train['decoded_tweet'] = df_train['cleaned_tweet'].apply(lambda x: decode_text(x) if contains_invalid_encoding(x) else x)\n",
        "\n",
        "# Filter rows containing incorrectly encoded characters (outside the ASCII range)\n",
        "invalid_tweets = df_train[df_train['cleaned_tweet'].apply(contains_invalid_encoding)]\n",
        "\n",
        "invalid_tweets_after_decoding = df_train[df_train['cleaned_tweet'] != df_train['decoded_tweet']]\n",
        "\n",
        "print(\"Tweets containing incorrectly encoded characters (outside the ASCII range):\")\n",
        "print(invalid_tweets[['cleaned_tweet']])"
      ],
      "metadata": {
        "id": "p8qmuIfyuIP5",
        "trusted": true,
        "execution": {
          "iopub.status.busy": "2025-01-06T04:32:00.519885Z",
          "iopub.execute_input": "2025-01-06T04:32:00.520177Z",
          "iopub.status.idle": "2025-01-06T04:32:00.677544Z",
          "shell.execute_reply.started": "2025-01-06T04:32:00.520144Z",
          "shell.execute_reply": "2025-01-06T04:32:00.676817Z"
        }
      },
      "outputs": [],
      "execution_count": null
    },
    {
      "cell_type": "code",
      "source": [
        "print(f\"Decoded tweets:\")\n",
        "print(invalid_tweets_after_decoding[['cleaned_tweet', 'decoded_tweet']])"
      ],
      "metadata": {
        "id": "2en5iTwEuIP6",
        "trusted": true,
        "execution": {
          "iopub.status.busy": "2025-01-06T04:32:00.678349Z",
          "iopub.execute_input": "2025-01-06T04:32:00.678609Z",
          "iopub.status.idle": "2025-01-06T04:32:00.686302Z",
          "shell.execute_reply.started": "2025-01-06T04:32:00.678586Z",
          "shell.execute_reply": "2025-01-06T04:32:00.685495Z"
        }
      },
      "outputs": [],
      "execution_count": null
    },
    {
      "cell_type": "code",
      "source": [
        "repeated_char_train = []\n",
        "for i, tweet in enumerate(df_train['decoded_tweet']):\n",
        "  if re.match(r'\\w*(\\w)\\1+',tweet):\n",
        "    repeated_char_train.append(i)"
      ],
      "metadata": {
        "id": "M00kQmkuuIP6",
        "trusted": true,
        "execution": {
          "iopub.status.busy": "2025-01-06T04:32:00.687202Z",
          "iopub.execute_input": "2025-01-06T04:32:00.687525Z",
          "iopub.status.idle": "2025-01-06T04:32:00.738314Z",
          "shell.execute_reply.started": "2025-01-06T04:32:00.687477Z",
          "shell.execute_reply": "2025-01-06T04:32:00.737699Z"
        }
      },
      "outputs": [],
      "execution_count": null
    },
    {
      "cell_type": "code",
      "source": [
        "len(repeated_char_train)"
      ],
      "metadata": {
        "id": "ueL1lmG6uIP6",
        "trusted": true,
        "execution": {
          "iopub.status.busy": "2025-01-06T04:32:00.739069Z",
          "iopub.execute_input": "2025-01-06T04:32:00.739291Z",
          "iopub.status.idle": "2025-01-06T04:32:00.744384Z",
          "shell.execute_reply.started": "2025-01-06T04:32:00.739271Z",
          "shell.execute_reply": "2025-01-06T04:32:00.743661Z"
        }
      },
      "outputs": [],
      "execution_count": null
    },
    {
      "cell_type": "code",
      "source": [
        "#Repeated char function\n",
        "def repeated_char(text):\n",
        "  text = re.sub(r'(\\w)\\1{2,}',r'\\1',text)\n",
        "  return text"
      ],
      "metadata": {
        "id": "DsqMpAxSuIP6",
        "trusted": true,
        "execution": {
          "iopub.status.busy": "2025-01-06T04:32:00.745331Z",
          "iopub.execute_input": "2025-01-06T04:32:00.745546Z",
          "iopub.status.idle": "2025-01-06T04:32:00.756307Z",
          "shell.execute_reply.started": "2025-01-06T04:32:00.745526Z",
          "shell.execute_reply": "2025-01-06T04:32:00.755621Z"
        }
      },
      "outputs": [],
      "execution_count": null
    },
    {
      "cell_type": "code",
      "source": [
        "df_train['clean_duplicate']=df_train['decoded_tweet'].apply(repeated_char)"
      ],
      "metadata": {
        "id": "1Zr-xdKluIP6",
        "trusted": true,
        "execution": {
          "iopub.status.busy": "2025-01-06T04:32:00.757087Z",
          "iopub.execute_input": "2025-01-06T04:32:00.757360Z",
          "iopub.status.idle": "2025-01-06T04:32:00.918411Z",
          "shell.execute_reply.started": "2025-01-06T04:32:00.757341Z",
          "shell.execute_reply": "2025-01-06T04:32:00.917587Z"
        }
      },
      "outputs": [],
      "execution_count": null
    },
    {
      "cell_type": "code",
      "source": [
        "df_train.head(20)"
      ],
      "metadata": {
        "id": "_DjVfrXZuIP6",
        "trusted": true,
        "execution": {
          "iopub.status.busy": "2025-01-06T04:32:00.919273Z",
          "iopub.execute_input": "2025-01-06T04:32:00.919521Z",
          "iopub.status.idle": "2025-01-06T04:32:00.930858Z",
          "shell.execute_reply.started": "2025-01-06T04:32:00.919490Z",
          "shell.execute_reply": "2025-01-06T04:32:00.930139Z"
        }
      },
      "outputs": [],
      "execution_count": null
    },
    {
      "cell_type": "markdown",
      "source": [
        "## Emoji Processing"
      ],
      "metadata": {
        "id": "EWsY3LBjuIP6"
      }
    },
    {
      "cell_type": "code",
      "source": [
        "!pip install emoji\n",
        "import emoji\n",
        "def emoji_text_trans(text):\n",
        "    text= emoji.demojize(text).replace (':', ' ')\n",
        "\n",
        "    #delete repeated emoji\n",
        "    tokenize= text.split()\n",
        "    repeated_list=[]\n",
        "    for word in tokenize:\n",
        "        if word not in repeated_list:\n",
        "            repeated_list.append(word)\n",
        "\n",
        "    text=' '.join(word for word in repeated_list)\n",
        "    text= text.replace(\"_\", \" \").replace(\"-\", \" \")\n",
        "    return text"
      ],
      "metadata": {
        "id": "vMmoh1C6uIP7",
        "trusted": true,
        "execution": {
          "iopub.status.busy": "2025-01-06T04:32:00.931559Z",
          "iopub.execute_input": "2025-01-06T04:32:00.931818Z",
          "iopub.status.idle": "2025-01-06T04:32:00.972576Z",
          "shell.execute_reply.started": "2025-01-06T04:32:00.931796Z",
          "shell.execute_reply": "2025-01-06T04:32:00.971849Z"
        }
      },
      "outputs": [],
      "execution_count": null
    },
    {
      "cell_type": "code",
      "source": [
        "df_train[\"deemoji_tweet\"] = df_train[\"clean_duplicate\"].apply(emoji_text_trans)"
      ],
      "metadata": {
        "id": "Ar-DB6dMuIP7",
        "trusted": true,
        "execution": {
          "iopub.status.busy": "2025-01-06T04:32:00.973428Z",
          "iopub.execute_input": "2025-01-06T04:32:00.973731Z",
          "iopub.status.idle": "2025-01-06T04:32:02.680855Z",
          "shell.execute_reply.started": "2025-01-06T04:32:00.973685Z",
          "shell.execute_reply": "2025-01-06T04:32:02.679820Z"
        }
      },
      "outputs": [],
      "execution_count": null
    },
    {
      "cell_type": "code",
      "source": [
        "from sklearn.model_selection import train_test_split\n",
        "#label\n",
        "y= df_train.label\n",
        "#features\n",
        "x=df_train.deemoji_tweet\n",
        "#split into test and train dataset with test size 20%\n",
        "x_train, x_test, y_train, y_test = train_test_split(x, y, test_size=0.2, random_state=42, stratify=y)\n",
        "x_train.head()"
      ],
      "metadata": {
        "id": "CG3JElsguIP7",
        "trusted": true,
        "execution": {
          "iopub.status.busy": "2025-01-06T04:32:02.681782Z",
          "iopub.execute_input": "2025-01-06T04:32:02.682044Z",
          "iopub.status.idle": "2025-01-06T04:32:02.837823Z",
          "shell.execute_reply.started": "2025-01-06T04:32:02.682020Z",
          "shell.execute_reply": "2025-01-06T04:32:02.836998Z"
        }
      },
      "outputs": [],
      "execution_count": null
    },
    {
      "cell_type": "markdown",
      "source": [
        "## Cleansing df_test"
      ],
      "metadata": {
        "id": "W-gqUBfDuIP7"
      }
    },
    {
      "cell_type": "markdown",
      "source": [
        "## Distill BERT"
      ],
      "metadata": {
        "id": "CKITL_7tuIP7"
      }
    },
    {
      "cell_type": "code",
      "source": [
        "import torch\n",
        "from transformers import DistilBertTokenizer, DistilBertForSequenceClassification\n",
        "from sklearn.utils.class_weight import compute_class_weight\n",
        "from torch.utils.data import DataLoader, TensorDataset\n",
        "from sklearn.metrics import classification_report, confusion_matrix\n",
        "import matplotlib.pyplot as plt\n",
        "import seaborn as sns\n",
        "import numpy as np"
      ],
      "metadata": {
        "id": "vs6mEp6GuIP8",
        "trusted": true,
        "execution": {
          "iopub.status.busy": "2025-01-06T04:32:02.838682Z",
          "iopub.execute_input": "2025-01-06T04:32:02.839046Z",
          "iopub.status.idle": "2025-01-06T04:32:07.666943Z",
          "shell.execute_reply.started": "2025-01-06T04:32:02.839011Z",
          "shell.execute_reply": "2025-01-06T04:32:07.665957Z"
        }
      },
      "outputs": [],
      "execution_count": null
    },
    {
      "cell_type": "code",
      "source": [
        "# Initial Setup\n",
        "device = torch.device('cuda' if torch.cuda.is_available() else 'cpu')\n",
        "tokenizer = DistilBertTokenizer.from_pretrained('distilbert-base-uncased')\n",
        "\n",
        "# Tokenization and Tensor Creation\n",
        "texts = x_train.tolist()\n",
        "labels = y_train.tolist()\n",
        "encoded_inputs = tokenizer(\n",
        "    texts,\n",
        "    padding=True,\n",
        "    truncation=True,\n",
        "    max_length=128,\n",
        "    return_tensors=\"pt\"\n",
        ")\n",
        "input_ids = encoded_inputs['input_ids']\n",
        "attention_mask = encoded_inputs['attention_mask']\n",
        "labels = torch.tensor(labels)\n"
      ],
      "metadata": {
        "id": "z-BPVLBQuIP8",
        "trusted": true,
        "execution": {
          "iopub.status.busy": "2025-01-06T04:32:07.667925Z",
          "iopub.execute_input": "2025-01-06T04:32:07.668386Z",
          "iopub.status.idle": "2025-01-06T04:32:16.892593Z",
          "shell.execute_reply.started": "2025-01-06T04:32:07.668363Z",
          "shell.execute_reply": "2025-01-06T04:32:16.891909Z"
        }
      },
      "outputs": [],
      "execution_count": null
    },
    {
      "cell_type": "code",
      "source": [
        "# Dataset y DataLoader\n",
        "dataset = TensorDataset(input_ids, attention_mask, labels)\n",
        "train_loader = DataLoader(dataset, batch_size=16, shuffle=True)\n",
        "\n",
        "# Model\n",
        "model = DistilBertForSequenceClassification.from_pretrained('distilbert-base-uncased', num_labels=2)\n",
        "model.to(device)\n",
        "\n",
        "# Class Weighting to Handle Imbalance\n",
        "#class_weights = compute_class_weight('balanced', classes=np.unique(labels.numpy()), y=labels.numpy())\n",
        "class_weights = compute_class_weight('balanced', classes=np.array([0, 1]), y=labels.numpy())\n",
        "class_weights = torch.tensor(class_weights, dtype=torch.float).to(device)\n",
        "criterion = torch.nn.CrossEntropyLoss(weight=class_weights)\n",
        "optimizer = torch.optim.AdamW(model.parameters(), lr=5e-5)"
      ],
      "metadata": {
        "id": "c-oIMd6zuIP8",
        "trusted": true,
        "execution": {
          "iopub.status.busy": "2025-01-06T04:32:16.893400Z",
          "iopub.execute_input": "2025-01-06T04:32:16.893656Z",
          "iopub.status.idle": "2025-01-06T04:32:19.124848Z",
          "shell.execute_reply.started": "2025-01-06T04:32:16.893634Z",
          "shell.execute_reply": "2025-01-06T04:32:19.124148Z"
        }
      },
      "outputs": [],
      "execution_count": null
    },
    {
      "cell_type": "code",
      "source": [
        "# Training\n",
        "epochs = 5\n",
        "training_loss = []\n",
        "model.train()\n",
        "for epoch in range(epochs):\n",
        "    epoch_loss = 0\n",
        "    for batch in train_loader:\n",
        "        b_input_ids, b_attention_mask, b_labels = tuple(t.to(device) for t in batch)\n",
        "\n",
        "        optimizer.zero_grad()\n",
        "        outputs = model(\n",
        "            input_ids=b_input_ids,\n",
        "            attention_mask=b_attention_mask,\n",
        "            labels=b_labels\n",
        "        )\n",
        "        #loss = outputs.loss\n",
        "        loss = criterion(outputs.logits, b_labels)\n",
        "        loss.backward()\n",
        "        optimizer.step()\n",
        "        epoch_loss += loss.item()\n",
        "\n",
        "    avg_loss = epoch_loss / len(train_loader)\n",
        "    training_loss.append(avg_loss)\n",
        "    print(f\"Epoch {epoch + 1}/{epochs}, Loss: {avg_loss:.4f}\")\n",
        "\n",
        "    save_path = \"/content/drive/MyDrive/datasets_project\"\n",
        "    # Save the Model After Each Epoch\n",
        "    model.save_pretrained(os.path.join(save_path, f\"distilbert_model_epoch_{epoch + 1}\"))\n",
        "    tokenizer.save_pretrained(os.path.join(save_path, f\"distilbert_model_epoch_{epoch + 1}\"))"
      ],
      "metadata": {
        "id": "xEIJBkBXuIP8",
        "trusted": true,
        "execution": {
          "iopub.status.busy": "2025-01-06T04:32:19.125570Z",
          "iopub.execute_input": "2025-01-06T04:32:19.125960Z",
          "iopub.status.idle": "2025-01-06T04:56:33.140395Z",
          "shell.execute_reply.started": "2025-01-06T04:32:19.125937Z",
          "shell.execute_reply": "2025-01-06T04:56:33.139668Z"
        }
      },
      "outputs": [],
      "execution_count": null
    },
    {
      "cell_type": "code",
      "source": [
        "# test_dataset = TensorDataset(input_ids, attention_mask)\n",
        "# test_loader = DataLoader(test_dataset, batch_size=8)\n",
        "\n",
        "# # Perform Batch Inference\n",
        "# y_pred = []\n",
        "# model.eval()\n",
        "# with torch.no_grad():\n",
        "#     for batch in test_loader:\n",
        "#         b_input_ids, b_attention_mask = tuple(t.to(device) for t in batch)\n",
        "#         outputs = model(input_ids=b_input_ids, attention_mask=b_attention_mask)\n",
        "#         logits = outputs.logits\n",
        "#         y_pred.extend(torch.argmax(logits, dim=1).cpu().numpy())"
      ],
      "metadata": {
        "trusted": true,
        "execution": {
          "iopub.status.busy": "2025-01-06T05:35:10.976178Z",
          "iopub.execute_input": "2025-01-06T05:35:10.976489Z",
          "iopub.status.idle": "2025-01-06T05:37:05.594441Z",
          "shell.execute_reply.started": "2025-01-06T05:35:10.976462Z",
          "shell.execute_reply": "2025-01-06T05:37:05.593462Z"
        },
        "id": "9FB2VvIHcQ7r"
      },
      "outputs": [],
      "execution_count": null
    },
    {
      "cell_type": "code",
      "source": [
        "texts_test = x_test.tolist()  # Dữ liệu văn bản test\n",
        "labels_test = y_test.tolist()  # Nhãn test\n",
        "\n",
        "encoded_test_inputs = tokenizer(\n",
        "    texts_test,\n",
        "    padding=True,\n",
        "    truncation=True,\n",
        "    max_length=128,\n",
        "    return_tensors=\"pt\"\n",
        ")\n",
        "\n",
        "test_input_ids = encoded_test_inputs['input_ids']\n",
        "test_attention_mask = encoded_test_inputs['attention_mask']\n",
        "test_labels = torch.tensor(labels_test)\n",
        "\n",
        "# Tạo DataLoader cho tập test\n",
        "test_dataset = TensorDataset(test_input_ids, test_attention_mask, test_labels)\n",
        "test_loader = DataLoader(test_dataset, batch_size=16, shuffle=False)\n",
        "\n",
        "# Đánh giá mô hình\n",
        "model.eval()\n",
        "correct = 0\n",
        "total = 0\n",
        "\n",
        "with torch.no_grad():\n",
        "    for batch in test_loader:\n",
        "        b_input_ids, b_attention_mask, b_labels = tuple(t.to(device) for t in batch)\n",
        "\n",
        "        outputs = model(\n",
        "            input_ids=b_input_ids,\n",
        "            attention_mask=b_attention_mask\n",
        "        )\n",
        "        logits = outputs.logits\n",
        "        predictions = torch.argmax(logits, dim=-1)\n",
        "\n",
        "        correct += (predictions == b_labels).sum().item()\n",
        "        total += b_labels.size(0)\n",
        "\n",
        "accuracy = correct / total\n",
        "print(f\"Accuracy on test set: {accuracy:.4f}\")"
      ],
      "metadata": {
        "trusted": true,
        "execution": {
          "iopub.status.busy": "2025-01-06T05:56:07.450972Z",
          "iopub.execute_input": "2025-01-06T05:56:07.451266Z",
          "iopub.status.idle": "2025-01-06T05:56:22.382308Z",
          "shell.execute_reply.started": "2025-01-06T05:56:07.451243Z",
          "shell.execute_reply": "2025-01-06T05:56:22.381491Z"
        },
        "id": "ncSxiX7ZcQ7r"
      },
      "outputs": [],
      "execution_count": null
    },
    {
      "cell_type": "code",
      "source": [
        "# # Đánh giá mô hình\n",
        "# model.eval()\n",
        "# correct_0 = 0  # Dự đoán đúng cho nhãn 0\n",
        "# correct_1 = 0  # Dự đoán đúng cho nhãn 1\n",
        "# total_0 = 0    # Tổng số mẫu có nhãn 0\n",
        "# total_1 = 0    # Tổng số mẫu có nhãn 1\n",
        "\n",
        "# with torch.no_grad():\n",
        "#     for batch in test_loader:\n",
        "#         b_input_ids, b_attention_mask, b_labels = tuple(t.to(device) for t in batch)\n",
        "\n",
        "#         outputs = model(\n",
        "#             input_ids=b_input_ids,\n",
        "#             attention_mask=b_attention_mask\n",
        "#         )\n",
        "#         logits = outputs.logits\n",
        "#         predictions = torch.argmax(logits, dim=-1)\n",
        "\n",
        "#         # Tính số dự đoán đúng cho nhãn 0 và 1\n",
        "#         correct_0 += ((predictions == 0) & (b_labels == 0)).sum().item()\n",
        "#         correct_1 += ((predictions == 1) & (b_labels == 1)).sum().item()\n",
        "\n",
        "#         # Tính tổng số mẫu cho nhãn 0 và 1\n",
        "#         total_0 += (b_labels == 0).sum().item()\n",
        "#         total_1 += (b_labels == 1).sum().item()\n",
        "\n",
        "# # Tính accuracy cho từng nhãn\n",
        "# accuracy_0 = correct_0 / total_0 if total_0 > 0 else 0\n",
        "# accuracy_1 = correct_1 / total_1 if total_1 > 0 else 0\n",
        "\n",
        "# print(f\"Accuracy for label 0: {accuracy_0:.4f}\")\n",
        "# print(f\"Accuracy for label 1: {accuracy_1:.4f}\")\n"
      ],
      "metadata": {
        "trusted": true,
        "execution": {
          "iopub.status.busy": "2025-01-06T05:58:17.788184Z",
          "iopub.execute_input": "2025-01-06T05:58:17.788475Z",
          "iopub.status.idle": "2025-01-06T05:58:31.252909Z",
          "shell.execute_reply.started": "2025-01-06T05:58:17.788453Z",
          "shell.execute_reply": "2025-01-06T05:58:31.252044Z"
        },
        "id": "4aj6C3k5cQ7r"
      },
      "outputs": [],
      "execution_count": null
    },
    {
      "cell_type": "code",
      "source": [
        "from sklearn.metrics import classification_report\n",
        "\n",
        "# Đánh giá mô hình\n",
        "model.eval()\n",
        "y_true = []  # Nhãn thực tế\n",
        "y_pred = []  # Dự đoán của mô hình\n",
        "\n",
        "with torch.no_grad():\n",
        "    for batch in test_loader:\n",
        "        b_input_ids, b_attention_mask, b_labels = tuple(t.to(device) for t in batch)\n",
        "\n",
        "        outputs = model(\n",
        "            input_ids=b_input_ids,\n",
        "            attention_mask=b_attention_mask\n",
        "        )\n",
        "        logits = outputs.logits\n",
        "        predictions = torch.argmax(logits, dim=-1)\n",
        "\n",
        "        y_true.extend(b_labels.cpu().numpy())  # Lưu nhãn thực tế\n",
        "        y_pred.extend(predictions.cpu().numpy())  # Lưu dự đoán\n",
        "\n",
        "# In ra classification report\n",
        "print(\"\\nClassification Report:\\n\")\n",
        "print(classification_report(y_true, y_pred, target_names=['No Hate', 'Hate']))\n"
      ],
      "metadata": {
        "trusted": true,
        "execution": {
          "iopub.status.busy": "2025-01-06T06:00:04.656499Z",
          "iopub.execute_input": "2025-01-06T06:00:04.656849Z",
          "iopub.status.idle": "2025-01-06T06:00:18.382487Z",
          "shell.execute_reply.started": "2025-01-06T06:00:04.656820Z",
          "shell.execute_reply": "2025-01-06T06:00:18.381607Z"
        },
        "id": "qELvpNtBcQ7s"
      },
      "outputs": [],
      "execution_count": null
    },
    {
      "cell_type": "code",
      "source": [
        "# Confusion Matrix\n",
        "conf_matrix = confusion_matrix(y_test, y_pred)\n",
        "plt.figure(figsize=(8, 6))\n",
        "sns.heatmap(conf_matrix, annot=True, fmt='d', cmap='Blues', xticklabels=['No Hate', 'Hate'], yticklabels=['No Hate', 'Hate'])\n",
        "plt.title('Confusion Matrix')\n",
        "plt.xlabel('Predicted')\n",
        "plt.ylabel('Actual')\n",
        "plt.show()"
      ],
      "metadata": {
        "id": "hTrv3lb2-1Xg",
        "trusted": true,
        "execution": {
          "iopub.status.busy": "2025-01-06T06:01:25.177193Z",
          "iopub.execute_input": "2025-01-06T06:01:25.177541Z",
          "iopub.status.idle": "2025-01-06T06:01:25.429209Z",
          "shell.execute_reply.started": "2025-01-06T06:01:25.177514Z",
          "shell.execute_reply": "2025-01-06T06:01:25.428468Z"
        }
      },
      "outputs": [],
      "execution_count": null
    },
    {
      "cell_type": "code",
      "source": [
        "# Loss Visualization\n",
        "plt.figure(figsize=(8, 6))\n",
        "plt.plot(range(1, epochs + 1), training_loss, marker='o')\n",
        "plt.title('Training Loss Over Epochs')\n",
        "plt.xlabel('Epoch')\n",
        "plt.ylabel('Loss')\n",
        "plt.grid()\n",
        "plt.show()"
      ],
      "metadata": {
        "id": "4tp2YU_suIP9",
        "trusted": true,
        "execution": {
          "iopub.status.busy": "2025-01-06T06:07:02.685861Z",
          "iopub.execute_input": "2025-01-06T06:07:02.686164Z",
          "iopub.status.idle": "2025-01-06T06:07:02.887116Z",
          "shell.execute_reply.started": "2025-01-06T06:07:02.686143Z",
          "shell.execute_reply": "2025-01-06T06:07:02.886357Z"
        }
      },
      "outputs": [],
      "execution_count": null
    },
    {
      "cell_type": "code",
      "source": [
        "model.save_pretrained(\"/kaggle/working/optimized_distilbert\")\n",
        "tokenizer.save_pretrained(\"/kaggle/working/optimized_distilbert\")"
      ],
      "metadata": {
        "trusted": true,
        "execution": {
          "iopub.status.busy": "2025-01-06T06:10:08.728674Z",
          "iopub.execute_input": "2025-01-06T06:10:08.729056Z",
          "iopub.status.idle": "2025-01-06T06:10:09.404155Z",
          "shell.execute_reply.started": "2025-01-06T06:10:08.729028Z",
          "shell.execute_reply": "2025-01-06T06:10:09.403467Z"
        },
        "id": "6WG5mITIcQ7s"
      },
      "outputs": [],
      "execution_count": null
    },
    {
      "cell_type": "code",
      "source": [
        "import shutil\n",
        "\n",
        "# Nén thư mục mô hình thành file zip\n",
        "shutil.make_archive('/kaggle/working/optimized_distilbert.zip', 'zip', '/kaggle/working', 'optimized_distilbert')"
      ],
      "metadata": {
        "trusted": true,
        "execution": {
          "iopub.status.busy": "2025-01-06T06:16:50.839229Z",
          "iopub.execute_input": "2025-01-06T06:16:50.839539Z",
          "iopub.status.idle": "2025-01-06T06:17:04.860946Z",
          "shell.execute_reply.started": "2025-01-06T06:16:50.839516Z",
          "shell.execute_reply": "2025-01-06T06:17:04.860172Z"
        },
        "id": "Bg77XbB8cQ7s"
      },
      "outputs": [],
      "execution_count": null
    },
    {
      "cell_type": "code",
      "source": [
        "from IPython.display import FileLink\n",
        "FileLink(r'optimized_distilbert.zip.zip')"
      ],
      "metadata": {
        "trusted": true,
        "execution": {
          "iopub.status.busy": "2025-01-06T06:17:18.626161Z",
          "iopub.execute_input": "2025-01-06T06:17:18.626473Z",
          "iopub.status.idle": "2025-01-06T06:17:18.632372Z",
          "shell.execute_reply.started": "2025-01-06T06:17:18.626450Z",
          "shell.execute_reply": "2025-01-06T06:17:18.631350Z"
        },
        "id": "vW47dKX8cQ7s"
      },
      "outputs": [],
      "execution_count": null
    },
    {
      "cell_type": "code",
      "source": [],
      "metadata": {
        "trusted": true,
        "id": "5g3A29mkcQ7s"
      },
      "outputs": [],
      "execution_count": null
    }
  ]
}